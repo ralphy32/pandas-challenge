{
 "cells": [
  {
   "cell_type": "code",
   "execution_count": null,
   "id": "8c887550",
   "metadata": {},
   "outputs": [],
   "source": [
    "#Perform the necessary calculations and then create a high-level snapshot of the district's key metrics in a DataFrame.\n",
    "#Include the following:\n",
    "#School name\n",
    "#School type\n",
    "#Total students\n",
    "#Total school budget\n",
    "#Per student budget\n",
    "#Average math score\n",
    "#Average reading score\n",
    "#% passing math (the percentage of students who passed math)\n",
    "#% passing reading (the percentage of students who passed reading)\n",
    "#% overall passing (the percentage of students who passed math AND reading)"
   ]
  },
  {
   "cell_type": "code",
   "execution_count": 70,
   "id": "f2ffec30",
   "metadata": {},
   "outputs": [],
   "source": [
    "import pandas as pd"
   ]
  },
  {
   "cell_type": "code",
   "execution_count": 71,
   "id": "4f4e048c",
   "metadata": {},
   "outputs": [
    {
     "data": {
      "text/html": [
       "<div>\n",
       "<style scoped>\n",
       "    .dataframe tbody tr th:only-of-type {\n",
       "        vertical-align: middle;\n",
       "    }\n",
       "\n",
       "    .dataframe tbody tr th {\n",
       "        vertical-align: top;\n",
       "    }\n",
       "\n",
       "    .dataframe thead th {\n",
       "        text-align: right;\n",
       "    }\n",
       "</style>\n",
       "<table border=\"1\" class=\"dataframe\">\n",
       "  <thead>\n",
       "    <tr style=\"text-align: right;\">\n",
       "      <th></th>\n",
       "      <th>Student ID</th>\n",
       "      <th>student_name</th>\n",
       "      <th>gender</th>\n",
       "      <th>grade</th>\n",
       "      <th>school_name</th>\n",
       "      <th>reading_score</th>\n",
       "      <th>math_score</th>\n",
       "      <th>School ID</th>\n",
       "      <th>type</th>\n",
       "      <th>size</th>\n",
       "      <th>budget</th>\n",
       "    </tr>\n",
       "  </thead>\n",
       "  <tbody>\n",
       "    <tr>\n",
       "      <th>0</th>\n",
       "      <td>0</td>\n",
       "      <td>Paul Bradley</td>\n",
       "      <td>M</td>\n",
       "      <td>9th</td>\n",
       "      <td>Huang High School</td>\n",
       "      <td>66</td>\n",
       "      <td>79</td>\n",
       "      <td>0</td>\n",
       "      <td>District</td>\n",
       "      <td>2917</td>\n",
       "      <td>1910635</td>\n",
       "    </tr>\n",
       "    <tr>\n",
       "      <th>1</th>\n",
       "      <td>1</td>\n",
       "      <td>Victor Smith</td>\n",
       "      <td>M</td>\n",
       "      <td>12th</td>\n",
       "      <td>Huang High School</td>\n",
       "      <td>94</td>\n",
       "      <td>61</td>\n",
       "      <td>0</td>\n",
       "      <td>District</td>\n",
       "      <td>2917</td>\n",
       "      <td>1910635</td>\n",
       "    </tr>\n",
       "    <tr>\n",
       "      <th>2</th>\n",
       "      <td>2</td>\n",
       "      <td>Kevin Rodriguez</td>\n",
       "      <td>M</td>\n",
       "      <td>12th</td>\n",
       "      <td>Huang High School</td>\n",
       "      <td>90</td>\n",
       "      <td>60</td>\n",
       "      <td>0</td>\n",
       "      <td>District</td>\n",
       "      <td>2917</td>\n",
       "      <td>1910635</td>\n",
       "    </tr>\n",
       "    <tr>\n",
       "      <th>3</th>\n",
       "      <td>3</td>\n",
       "      <td>Dr. Richard Scott</td>\n",
       "      <td>M</td>\n",
       "      <td>12th</td>\n",
       "      <td>Huang High School</td>\n",
       "      <td>67</td>\n",
       "      <td>58</td>\n",
       "      <td>0</td>\n",
       "      <td>District</td>\n",
       "      <td>2917</td>\n",
       "      <td>1910635</td>\n",
       "    </tr>\n",
       "    <tr>\n",
       "      <th>4</th>\n",
       "      <td>4</td>\n",
       "      <td>Bonnie Ray</td>\n",
       "      <td>F</td>\n",
       "      <td>9th</td>\n",
       "      <td>Huang High School</td>\n",
       "      <td>97</td>\n",
       "      <td>84</td>\n",
       "      <td>0</td>\n",
       "      <td>District</td>\n",
       "      <td>2917</td>\n",
       "      <td>1910635</td>\n",
       "    </tr>\n",
       "  </tbody>\n",
       "</table>\n",
       "</div>"
      ],
      "text/plain": [
       "   Student ID       student_name gender grade        school_name  \\\n",
       "0           0       Paul Bradley      M   9th  Huang High School   \n",
       "1           1       Victor Smith      M  12th  Huang High School   \n",
       "2           2    Kevin Rodriguez      M  12th  Huang High School   \n",
       "3           3  Dr. Richard Scott      M  12th  Huang High School   \n",
       "4           4         Bonnie Ray      F   9th  Huang High School   \n",
       "\n",
       "   reading_score  math_score  School ID      type  size   budget  \n",
       "0             66          79          0  District  2917  1910635  \n",
       "1             94          61          0  District  2917  1910635  \n",
       "2             90          60          0  District  2917  1910635  \n",
       "3             67          58          0  District  2917  1910635  \n",
       "4             97          84          0  District  2917  1910635  "
      ]
     },
     "execution_count": 71,
     "metadata": {},
     "output_type": "execute_result"
    }
   ],
   "source": [
    "#load files\n",
    "school_file = \"Resources/schools_complete.csv\"\n",
    "student_file = \"Resources/students_complete.csv\"\n",
    "\n",
    "#Read files\n",
    "school_data = pd.read_csv(school_file)\n",
    "student_data = pd.read_csv(student_file)\n",
    "\n",
    "#Combine dataset\n",
    "combined_data = pd.merge(student_data, school_data, how=\"left\", on=[\"school_name\",\"school_name\"])\n",
    "combined_data.head()            "
   ]
  },
  {
   "cell_type": "code",
   "execution_count": 23,
   "id": "97231d27",
   "metadata": {},
   "outputs": [
    {
     "data": {
      "text/plain": [
       "15"
      ]
     },
     "execution_count": 23,
     "metadata": {},
     "output_type": "execute_result"
    }
   ],
   "source": [
    "#Total number of unique schools\n",
    "unique_schools = combined_data[\"school_name\"].unique()\n",
    "school_count = len(unique_schools)\n",
    "school_count"
   ]
  },
  {
   "cell_type": "code",
   "execution_count": 50,
   "id": "2fc84d5b",
   "metadata": {},
   "outputs": [
    {
     "data": {
      "text/plain": [
       "39170"
      ]
     },
     "execution_count": 50,
     "metadata": {},
     "output_type": "execute_result"
    }
   ],
   "source": [
    "#Total students\n",
    "total_students = combined_data[\"student_name\"].count()\n",
    "total_students"
   ]
  },
  {
   "cell_type": "code",
   "execution_count": 38,
   "id": "44f892b3",
   "metadata": {},
   "outputs": [
    {
     "data": {
      "text/plain": [
       "24649428"
      ]
     },
     "execution_count": 38,
     "metadata": {},
     "output_type": "execute_result"
    }
   ],
   "source": [
    "#Total budget\n",
    "unique_amounts = combined_data[[\"school_name\",\"budget\"]].drop_duplicates([\"school_name\"])\n",
    "total_budget = unique_amounts[\"budget\"].sum()\n",
    "total_budget"
   ]
  },
  {
   "cell_type": "code",
   "execution_count": 45,
   "id": "4fbe66d9",
   "metadata": {},
   "outputs": [
    {
     "data": {
      "text/plain": [
       "78.99"
      ]
     },
     "execution_count": 45,
     "metadata": {},
     "output_type": "execute_result"
    }
   ],
   "source": [
    "#Average math score\n",
    "round(combined_data[\"math_score\"].mean(),2)"
   ]
  },
  {
   "cell_type": "code",
   "execution_count": 41,
   "id": "b50933f8",
   "metadata": {},
   "outputs": [
    {
     "data": {
      "text/plain": [
       "81.88"
      ]
     },
     "execution_count": 41,
     "metadata": {},
     "output_type": "execute_result"
    }
   ],
   "source": [
    "#Average reading score\n",
    "round(combined_data[\"reading_score\"].mean(),2)"
   ]
  },
  {
   "cell_type": "code",
   "execution_count": 96,
   "id": "0e96930e",
   "metadata": {},
   "outputs": [
    {
     "data": {
      "text/plain": [
       "74.98"
      ]
     },
     "execution_count": 96,
     "metadata": {},
     "output_type": "execute_result"
    }
   ],
   "source": [
    "#% passing math (the percentage of students who passed math)\n",
    "passing_math = combined_data.loc[combined_data[\"math_score\"]>69,[\"school_name\",\"student_name\",\"math_score\"]]\n",
    "count_passing_math = passing_math[\"student_name\"].count()\n",
    "percent_passing_math = round(((count_passing_math/total_students)*100),2)\n",
    "percent_passing_math"
   ]
  },
  {
   "cell_type": "code",
   "execution_count": 62,
   "id": "515971c1",
   "metadata": {},
   "outputs": [
    {
     "data": {
      "text/plain": [
       "85.81"
      ]
     },
     "execution_count": 62,
     "metadata": {},
     "output_type": "execute_result"
    }
   ],
   "source": [
    "#% passing reading (the percentage of students who passed reading)\n",
    "passing_reading = combined_data.loc[combined_data[\"reading_score\"]>69,[\"student_name\",\"reading_score\"]]\n",
    "count_passing_reading = passing_reading[\"student_name\"].count()\n",
    "percent_passing_reading = round(((count_passing_reading/total_students)*100),2)\n",
    "percent_passing_reading"
   ]
  },
  {
   "cell_type": "code",
   "execution_count": 63,
   "id": "17003abc",
   "metadata": {},
   "outputs": [
    {
     "data": {
      "text/plain": [
       "65.17"
      ]
     },
     "execution_count": 63,
     "metadata": {},
     "output_type": "execute_result"
    }
   ],
   "source": [
    "#% overall passing (the percentage of students who passed math AND reading)\n",
    "passing_both = combined_data.loc[(combined_data[\"reading_score\"]>69) & (combined_data[\"math_score\"]>69),[\"student_name\",\"reading_score\",\"math_score\"]]\n",
    "count_passing_both = passing_both[\"student_name\"].count()\n",
    "percent_passing_both = round(((count_passing_both/total_students)*100),2)\n",
    "percent_passing_both"
   ]
  },
  {
   "cell_type": "code",
   "execution_count": 106,
   "id": "5a27735d",
   "metadata": {},
   "outputs": [
    {
     "data": {
      "text/plain": [
       "Bailey High School       2719\n",
       "Johnson High School      2549\n",
       "Hernandez High School    2481\n",
       "Rodriguez High School    2119\n",
       "Wilson High School       2068\n",
       "Cabrera High School      1697\n",
       "Wright High School       1626\n",
       "Shelton High School      1583\n",
       "Figueroa High School     1569\n",
       "Huang High School        1561\n",
       "Thomas High School       1487\n",
       "Ford High School         1487\n",
       "Griffin High School      1330\n",
       "Pena High School          871\n",
       "Holden High School        381\n",
       "Name: school_name, dtype: int64"
      ]
     },
     "execution_count": 106,
     "metadata": {},
     "output_type": "execute_result"
    }
   ],
   "source": [
    "school_summary = combined_data[[\"school_name\",\"student_name\",\"reading_score\",\"math_score\",\"type\",\"size\",\"budget\"]]\n",
    "school_summary = school_summary.groupby([\"school_name\"])\n",
    "school_reading_summary = school_summary[\"reading_score\"].mean()\n",
    "school_math_summary = school_summary[\"math_score\"].mean()\n",
    "school_student_count = school_summary[\"student_name\"].count()\n",
    "school_pass_math = combined_data.loc[combined_data[\"math_score\"]>69,\"school_name\"].value_counts()\n",
    "school_pass_reading = combined_data.loc[combined_data[\"reading_score\"]>69,\"school_name\"].value_counts()\n",
    "school_pass_both = combined_data.loc[(combined_data[\"reading_score\"]>69) & (combined_data[\"math_score\"]>69),[\"school_name\"]]\n",
    "school_pass_both[\"school_name\"].value_counts()"
   ]
  },
  {
   "cell_type": "code",
   "execution_count": 107,
   "id": "b5baf63e",
   "metadata": {},
   "outputs": [
    {
     "data": {
      "text/plain": [
       "Bailey High School       3318\n",
       "Johnson High School      3145\n",
       "Hernandez High School    3094\n",
       "Rodriguez High School    2654\n",
       "Wilson High School       2143\n",
       "Figueroa High School     1946\n",
       "Huang High School        1916\n",
       "Ford High School         1871\n",
       "Cabrera High School      1749\n",
       "Wright High School       1680\n",
       "Shelton High School      1653\n",
       "Thomas High School       1525\n",
       "Griffin High School      1371\n",
       "Pena High School          910\n",
       "Holden High School        395\n",
       "Name: school_name, dtype: int64"
      ]
     },
     "execution_count": 107,
     "metadata": {},
     "output_type": "execute_result"
    }
   ],
   "source": [
    "school_pass_math = combined_data.loc[combined_data[\"math_score\"]>69,\"school_name\"].value_counts()\n",
    "school_pass_math"
   ]
  },
  {
   "cell_type": "code",
   "execution_count": 108,
   "id": "c0794411",
   "metadata": {},
   "outputs": [
    {
     "data": {
      "text/plain": [
       "Bailey High School       4077\n",
       "Johnson High School      3867\n",
       "Hernandez High School    3748\n",
       "Rodriguez High School    3208\n",
       "Figueroa High School     2381\n",
       "Huang High School        2372\n",
       "Wilson High School       2204\n",
       "Ford High School         2172\n",
       "Cabrera High School      1803\n",
       "Wright High School       1739\n",
       "Shelton High School      1688\n",
       "Thomas High School       1591\n",
       "Griffin High School      1426\n",
       "Pena High School          923\n",
       "Holden High School        411\n",
       "Name: school_name, dtype: int64"
      ]
     },
     "execution_count": 108,
     "metadata": {},
     "output_type": "execute_result"
    }
   ],
   "source": [
    "school_pass_reading = combined_data.loc[combined_data[\"reading_score\"]>69,\"school_name\"].value_counts()\n",
    "school_pass_reading"
   ]
  },
  {
   "cell_type": "code",
   "execution_count": null,
   "id": "8b3be1a9",
   "metadata": {},
   "outputs": [],
   "source": []
  }
 ],
 "metadata": {
  "kernelspec": {
   "display_name": "PythonData",
   "language": "python",
   "name": "pythondata"
  },
  "language_info": {
   "codemirror_mode": {
    "name": "ipython",
    "version": 3
   },
   "file_extension": ".py",
   "mimetype": "text/x-python",
   "name": "python",
   "nbconvert_exporter": "python",
   "pygments_lexer": "ipython3",
   "version": "3.7.7"
  }
 },
 "nbformat": 4,
 "nbformat_minor": 5
}
